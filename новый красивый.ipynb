{
 "cells": [
  {
   "cell_type": "code",
   "execution_count": 1,
   "id": "2c8f937b",
   "metadata": {},
   "outputs": [],
   "source": [
    "import pandas as pd\n",
    "import numpy as np\n",
    "import os\n",
    "import subprocess"
   ]
  },
  {
   "cell_type": "code",
   "execution_count": 2,
   "id": "3bd0c276",
   "metadata": {},
   "outputs": [],
   "source": [
    "os.chdir('/home/ars1suhod/ncbi')"
   ]
  },
  {
   "cell_type": "code",
   "execution_count": 3,
   "id": "ef0a6929",
   "metadata": {},
   "outputs": [],
   "source": [
    "df = pd.read_csv('assembly_summary_genbank.txt', delimiter='\\t')"
   ]
  },
  {
   "cell_type": "code",
   "execution_count": 4,
   "id": "17c2083b",
   "metadata": {},
   "outputs": [],
   "source": [
    "df = df.fillna(0)"
   ]
  },
  {
   "cell_type": "code",
   "execution_count": 5,
   "id": "c432788b",
   "metadata": {},
   "outputs": [],
   "source": [
    "df = df[df['taxid'] != 0]"
   ]
  },
  {
   "cell_type": "code",
   "execution_count": 6,
   "id": "b3a6e7ad",
   "metadata": {},
   "outputs": [
    {
     "name": "stdout",
     "output_type": "stream",
     "text": [
      "       assembly_accession   bioproject     biosample      wgs_master  \\\n",
      "0         GCA_000001215.4   PRJNA13812  SAMN02803731               0   \n",
      "1        GCA_000001405.29   PRJNA31257             0               0   \n",
      "2         GCA_000001515.5   PRJNA13184  SAMN02981217  AACZ00000000.4   \n",
      "3         GCA_000001545.3   PRJNA20869  SAMN02981238  ABGA00000000.1   \n",
      "4         GCA_000001635.9   PRJNA20689             0               0   \n",
      "...                   ...          ...           ...             ...   \n",
      "155601    GCA_003312975.1  PRJNA430462  SAMN08374142  PPSP00000000.1   \n",
      "155602    GCA_003312995.1  PRJNA430462  SAMN08374129  PQCT00000000.1   \n",
      "155603    GCA_003313015.1  PRJNA479572  SAMN09580377  QNVM00000000.1   \n",
      "155604    GCA_003313035.1  PRJNA472895  SAMN09253947  QHCV00000000.1   \n",
      "155605    GCA_003313055.1  PRJNA454572  SAMN09010700  QGOB00000000.1   \n",
      "\n",
      "              refseq_category      taxid  species_taxid  \\\n",
      "0            reference genome     7227.0         7227.0   \n",
      "1            reference genome     9606.0         9606.0   \n",
      "2                          na     9598.0         9598.0   \n",
      "3                          na     9601.0         9601.0   \n",
      "4            reference genome    10090.0        10090.0   \n",
      "...                       ...        ...            ...   \n",
      "155601                     na      562.0          562.0   \n",
      "155602                     na   299767.0       299767.0   \n",
      "155603                     na  2259618.0      2259618.0   \n",
      "155604  representative genome  2055947.0      2055947.0   \n",
      "155605  representative genome  2175966.0      2175966.0   \n",
      "\n",
      "                         organism_name infraspecific_name  \\\n",
      "0              Drosophila melanogaster                  0   \n",
      "1                         Homo sapiens                  0   \n",
      "2                      Pan troglodytes                  0   \n",
      "3                         Pongo abelii                  0   \n",
      "4                         Mus musculus                  0   \n",
      "...                                ...                ...   \n",
      "155601                Escherichia coli     strain=DLL7531   \n",
      "155602           Enterobacter ludwigii     strain=DLL7524   \n",
      "155603              Pantoea sp. 3_1284      strain=3_1284   \n",
      "155604  Corynebacterium heidelbergense         strain=647   \n",
      "155605          Termitomyces sp. MG145       strain=MG145   \n",
      "\n",
      "                                     isolate  ... genome_rep seq_rel_date  \\\n",
      "0                                          0  ...       Full   2014/08/01   \n",
      "1                                          0  ...       Full   2022/02/03   \n",
      "2       Yerkes chimp pedigree #C0471 (Clint)  ...       Full   2016/05/03   \n",
      "3                                    ISIS 71  ...       Full   2008/11/13   \n",
      "4                                          0  ...       Full   2020/06/24   \n",
      "...                                      ...  ...        ...          ...   \n",
      "155601                                     0  ...       Full   2018/07/11   \n",
      "155602                                     0  ...       Full   2018/07/11   \n",
      "155603                                     0  ...       Full   2018/07/11   \n",
      "155604                                     0  ...       Full   2018/07/02   \n",
      "155605                                     0  ...       Full   2018/07/11   \n",
      "\n",
      "                      asm_name  \\\n",
      "0       Release 6 plus ISO1 MT   \n",
      "1                   GRCh38.p14   \n",
      "2                  Pan_tro 3.0   \n",
      "3             P_pygmaeus_2.0.2   \n",
      "4                       GRCm39   \n",
      "...                        ...   \n",
      "155601             ASM331297v1   \n",
      "155602             ASM331299v1   \n",
      "155603             ASM331301v1   \n",
      "155604             ASM331303v1   \n",
      "155605             ASM331305v1   \n",
      "\n",
      "                                                submitter   gbrs_paired_asm  \\\n",
      "0       The FlyBase Consortium/Berkeley Drosophila Gen...   GCF_000001215.4   \n",
      "1                             Genome Reference Consortium  GCF_000001405.40   \n",
      "2           Chimpanzee Sequencing and Analysis Consortium   GCF_000001515.7   \n",
      "3                  Orangutan Genome Sequencing Consortium                na   \n",
      "4                             Genome Reference Consortium  GCF_000001635.27   \n",
      "...                                                   ...               ...   \n",
      "155601                                  Monash University   GCF_003312975.1   \n",
      "155602                                  Monash University   GCF_003312995.1   \n",
      "155603                              Instituto Adolfo Lutz   GCF_003313015.1   \n",
      "155604  Institute of Pharmacy and Molecular Biotechnology   GCF_003313035.1   \n",
      "155605       Kunming University of Science and Technology                na   \n",
      "\n",
      "       paired_asm_comp                                           ftp_path  \\\n",
      "0            identical  https://ftp.ncbi.nlm.nih.gov/genomes/all/GCA/0...   \n",
      "1            different  https://ftp.ncbi.nlm.nih.gov/genomes/all/GCA/0...   \n",
      "2            different  https://ftp.ncbi.nlm.nih.gov/genomes/all/GCA/0...   \n",
      "3                   na  https://ftp.ncbi.nlm.nih.gov/genomes/all/GCA/0...   \n",
      "4            identical  https://ftp.ncbi.nlm.nih.gov/genomes/all/GCA/0...   \n",
      "...                ...                                                ...   \n",
      "155601       identical  https://ftp.ncbi.nlm.nih.gov/genomes/all/GCA/0...   \n",
      "155602       identical  https://ftp.ncbi.nlm.nih.gov/genomes/all/GCA/0...   \n",
      "155603       identical  https://ftp.ncbi.nlm.nih.gov/genomes/all/GCA/0...   \n",
      "155604       identical  https://ftp.ncbi.nlm.nih.gov/genomes/all/GCA/0...   \n",
      "155605              na  https://ftp.ncbi.nlm.nih.gov/genomes/all/GCA/0...   \n",
      "\n",
      "                            excluded_from_refseq relation_to_type_material  \\\n",
      "0                                              0                         0   \n",
      "1                                              0                         0   \n",
      "2       superseded by newer assembly for species                         0   \n",
      "3                                              0                         0   \n",
      "4                                              0                         0   \n",
      "...                                          ...                       ...   \n",
      "155601                                         0                         0   \n",
      "155602                                         0                         0   \n",
      "155603                                         0                         0   \n",
      "155604                                         0                         0   \n",
      "155605                                         0                         0   \n",
      "\n",
      "       asm_not_live_date  \n",
      "0                     na  \n",
      "1                     na  \n",
      "2                     na  \n",
      "3                     na  \n",
      "4                     na  \n",
      "...                  ...  \n",
      "155601                na  \n",
      "155602                na  \n",
      "155603                na  \n",
      "155604                na  \n",
      "155605                na  \n",
      "\n",
      "[155606 rows x 23 columns]\n"
     ]
    }
   ],
   "source": [
    "print(df)"
   ]
  },
  {
   "cell_type": "code",
   "execution_count": 7,
   "id": "db0dfd09",
   "metadata": {},
   "outputs": [],
   "source": [
    "dict_taxid = {}\n",
    "with open('out.txt', 'r') as out:\n",
    "    for line in out:\n",
    "        try:\n",
    "            dict_taxid.setdefault('taxid', [])\n",
    "            dict_taxid.setdefault('taxi', [])\n",
    "            dict_taxid['taxid'].append(np.float64(line.split(' ')[0].split('\\t')[0]))\n",
    "            dict_taxid['taxi'].append(line.split(' ')[1].split(';')[1])\n",
    "        except IndexError:\n",
    "            #print(line)\n",
    "            dict_taxid['taxi'].append(line.split('\\t')[1].split(';')[0])"
   ]
  },
  {
   "cell_type": "code",
   "execution_count": 8,
   "id": "7ad8f668",
   "metadata": {},
   "outputs": [],
   "source": [
    "df_taxid = pd.DataFrame(dict_taxid)"
   ]
  },
  {
   "cell_type": "code",
   "execution_count": 9,
   "id": "abcb94b9",
   "metadata": {},
   "outputs": [],
   "source": [
    "df['taxi'] = df_taxid['taxi']"
   ]
  },
  {
   "cell_type": "code",
   "execution_count": 10,
   "id": "e040034a",
   "metadata": {},
   "outputs": [],
   "source": [
    "df_bacteria = df[df['taxi'] == 'Bacteria']\n",
    "df_arc = df[df['taxi'] == 'Archaea']"
   ]
  },
  {
   "cell_type": "code",
   "execution_count": 11,
   "id": "9ee3283f",
   "metadata": {},
   "outputs": [],
   "source": [
    "df_bacteria.index = [i for i in range (len(df_bacteria))]"
   ]
  },
  {
   "cell_type": "code",
   "execution_count": 12,
   "id": "5a9fa3c3",
   "metadata": {
    "scrolled": true
   },
   "outputs": [
    {
     "name": "stdout",
     "output_type": "stream",
     "text": [
      "       assembly_accession   bioproject     biosample      wgs_master  \\\n",
      "0         GCA_000003135.1   PRJNA31437  SAMN00001475  ACHI00000000.1   \n",
      "1         GCA_000003215.1   PRJNA20093  SAMN02470531  ABFD00000000.2   \n",
      "2         GCA_000003645.1   PRJNA29657  SAMN00717290  ACLS00000000.1   \n",
      "3         GCA_000003925.1   PRJNA29701  SAMN00727646  ACMU00000000.1   \n",
      "4         GCA_000003955.1   PRJNA29699  SAMN00727677  ACMT00000000.1   \n",
      "...                   ...          ...           ...             ...   \n",
      "128051    GCA_003312945.1  PRJNA479571  SAMN09580376  QNVL00000000.1   \n",
      "128052    GCA_003312975.1  PRJNA430462  SAMN08374142  PPSP00000000.1   \n",
      "128053    GCA_003312995.1  PRJNA430462  SAMN08374129  PQCT00000000.1   \n",
      "128054    GCA_003313015.1  PRJNA479572  SAMN09580377  QNVM00000000.1   \n",
      "128055    GCA_003313035.1  PRJNA472895  SAMN09253947  QHCV00000000.1   \n",
      "\n",
      "              refseq_category      taxid  species_taxid  \\\n",
      "0                          na   548480.0       216816.0   \n",
      "1                          na   455631.0         1496.0   \n",
      "2                          na   526973.0         1396.0   \n",
      "3                          na   526997.0         1405.0   \n",
      "4                          na   526994.0         1396.0   \n",
      "...                       ...        ...            ...   \n",
      "128051                     na      666.0          666.0   \n",
      "128052                     na      562.0          562.0   \n",
      "128053                     na   299767.0       299767.0   \n",
      "128054                     na  2259618.0      2259618.0   \n",
      "128055  representative genome  2055947.0      2055947.0   \n",
      "\n",
      "                                          organism_name infraspecific_name  \\\n",
      "0       Bifidobacterium longum subsp. longum ATCC 55813  strain=ATCC 55813   \n",
      "1                    Clostridioides difficile QCD-66c26                  0   \n",
      "2                                 Bacillus cereus m1293       strain=m1293   \n",
      "3                            Bacillus mycoides DSM 2048    strain=DSM 2048   \n",
      "4                                Bacillus cereus AH1273      strain=AH1273   \n",
      "...                                                 ...                ...   \n",
      "128051                                  Vibrio cholerae      strain=09_113   \n",
      "128052                                 Escherichia coli     strain=DLL7531   \n",
      "128053                            Enterobacter ludwigii     strain=DLL7524   \n",
      "128054                               Pantoea sp. 3_1284      strain=3_1284   \n",
      "128055                   Corynebacterium heidelbergense         strain=647   \n",
      "\n",
      "          isolate  ... seq_rel_date     asm_name  \\\n",
      "0               0  ...   2009/05/05     ASM313v1   \n",
      "1       QCD-66c26  ...   2009/01/30     ASM321v1   \n",
      "2               0  ...   2009/05/29     ASM364v1   \n",
      "3               0  ...   2009/05/29     ASM392v1   \n",
      "4               0  ...   2009/05/29     ASM395v1   \n",
      "...           ...  ...          ...          ...   \n",
      "128051          0  ...   2018/07/11  ASM331294v1   \n",
      "128052          0  ...   2018/07/11  ASM331297v1   \n",
      "128053          0  ...   2018/07/11  ASM331299v1   \n",
      "128054          0  ...   2018/07/11  ASM331301v1   \n",
      "128055          0  ...   2018/07/02  ASM331303v1   \n",
      "\n",
      "                                                submitter  gbrs_paired_asm  \\\n",
      "0                              Baylor College of Medicine  GCF_000003135.1   \n",
      "1                                       McGill University  GCF_000003215.1   \n",
      "2                           Naval Medical Research Center  GCF_000003645.1   \n",
      "3                           Naval Medical Research Center  GCF_000003925.1   \n",
      "4                           Naval Medical Research Center  GCF_000003955.1   \n",
      "...                                                   ...              ...   \n",
      "128051                              Instituto Adolfo Lutz  GCF_003312945.1   \n",
      "128052                                  Monash University  GCF_003312975.1   \n",
      "128053                                  Monash University  GCF_003312995.1   \n",
      "128054                              Instituto Adolfo Lutz  GCF_003313015.1   \n",
      "128055  Institute of Pharmacy and Molecular Biotechnology  GCF_003313035.1   \n",
      "\n",
      "       paired_asm_comp                                           ftp_path  \\\n",
      "0            identical  https://ftp.ncbi.nlm.nih.gov/genomes/all/GCA/0...   \n",
      "1            identical  https://ftp.ncbi.nlm.nih.gov/genomes/all/GCA/0...   \n",
      "2            identical  https://ftp.ncbi.nlm.nih.gov/genomes/all/GCA/0...   \n",
      "3            identical  https://ftp.ncbi.nlm.nih.gov/genomes/all/GCA/0...   \n",
      "4            identical  https://ftp.ncbi.nlm.nih.gov/genomes/all/GCA/0...   \n",
      "...                ...                                                ...   \n",
      "128051       identical  https://ftp.ncbi.nlm.nih.gov/genomes/all/GCA/0...   \n",
      "128052       identical  https://ftp.ncbi.nlm.nih.gov/genomes/all/GCA/0...   \n",
      "128053       identical  https://ftp.ncbi.nlm.nih.gov/genomes/all/GCA/0...   \n",
      "128054       identical  https://ftp.ncbi.nlm.nih.gov/genomes/all/GCA/0...   \n",
      "128055       identical  https://ftp.ncbi.nlm.nih.gov/genomes/all/GCA/0...   \n",
      "\n",
      "       excluded_from_refseq    relation_to_type_material asm_not_live_date  \\\n",
      "0                         0                            0                na   \n",
      "1                         0                            0                na   \n",
      "2                         0                            0                na   \n",
      "3                         0  assembly from type material                na   \n",
      "4                         0                            0                na   \n",
      "...                     ...                          ...               ...   \n",
      "128051                    0                            0                na   \n",
      "128052                    0                            0                na   \n",
      "128053                    0                            0                na   \n",
      "128054                    0                            0                na   \n",
      "128055                    0                            0                na   \n",
      "\n",
      "            taxi  \n",
      "0       Bacteria  \n",
      "1       Bacteria  \n",
      "2       Bacteria  \n",
      "3       Bacteria  \n",
      "4       Bacteria  \n",
      "...          ...  \n",
      "128051  Bacteria  \n",
      "128052  Bacteria  \n",
      "128053  Bacteria  \n",
      "128054  Bacteria  \n",
      "128055  Bacteria  \n",
      "\n",
      "[128056 rows x 24 columns]\n"
     ]
    }
   ],
   "source": [
    "print(df_bacteria)"
   ]
  },
  {
   "cell_type": "code",
   "execution_count": 13,
   "id": "05f711c6",
   "metadata": {},
   "outputs": [
    {
     "name": "stdout",
     "output_type": "stream",
     "text": [
      "na\n"
     ]
    }
   ],
   "source": [
    "print(df_bacteria['refseq_category'][0])"
   ]
  },
  {
   "cell_type": "code",
   "execution_count": 14,
   "id": "3c55fce8",
   "metadata": {},
   "outputs": [],
   "source": [
    "count = 0\n",
    "mist_list = []"
   ]
  },
  {
   "cell_type": "code",
   "execution_count": 15,
   "id": "8d5dcbd4",
   "metadata": {},
   "outputs": [
    {
     "name": "stdout",
     "output_type": "stream",
     "text": [
      "11568\n"
     ]
    }
   ],
   "source": [
    "stats_counter = 0\n",
    "home = '/home/ars1suhod/ncbi/stats_bac'\n",
    "os.chdir(home)\n",
    "for root, dirs, files in os.walk(os.getcwd()):\n",
    "    for filename in files:\n",
    "        stats_counter += 1\n",
    "print(stats_counter)"
   ]
  },
  {
   "cell_type": "code",
   "execution_count": 16,
   "id": "3da1f01e",
   "metadata": {},
   "outputs": [],
   "source": [
    "l = []\n",
    "home = '/home/ars1suhod/ncbi/stats_bac'\n",
    "for root, dirs, files in os.walk(home):\n",
    "    for dire in dirs:\n",
    "        l.append(dire)"
   ]
  },
  {
   "cell_type": "code",
   "execution_count": 17,
   "id": "ccb9b14c",
   "metadata": {},
   "outputs": [
    {
     "name": "stdout",
     "output_type": "stream",
     "text": [
      "5750\n"
     ]
    }
   ],
   "source": [
    "print(len(l))"
   ]
  },
  {
   "cell_type": "code",
   "execution_count": 18,
   "id": "24f029f9",
   "metadata": {},
   "outputs": [],
   "source": [
    "def start_end(file, start_stop_dict):\n",
    "    #old_end = 0\n",
    "    #old_gene = ''\n",
    "    with open(file, 'r') as bsubt:\n",
    "        for line in bsubt:\n",
    "            if '>' in line:\n",
    "                try:\n",
    "                    gene = line.split(\" \")[0]\n",
    "                    loc = line.split('location=')[1].split(']')[0]\n",
    "                    if('complement') in loc:\n",
    "                        if ('join(') in loc:\n",
    "                            start = loc.split('join(')[1].split('..')[0]#.replace(\"<\", \"\")\n",
    "                            #start = start.replace(\">\", \"\")\n",
    "                            end = loc.split('join(')[1].split('..')[2].split(')')[0]#.replace(\"<\", \"\")\n",
    "                            #end = end.replace(\">\", \"\")\n",
    "                        else:\n",
    "                            raw_start = loc.split('..')[0]\n",
    "                            raw_end = loc.split('..')[1]\n",
    "                            start = raw_start.split('(')[1]#.replace(\"<\", \"\")\n",
    "                            #start = start.replace(\">\", \"\")\n",
    "                            end = raw_end.split(')')[0]#.replace(\"<\", \"\")\n",
    "                            #end = end.replace(\">\", \"\")\n",
    "                    elif ('join(' in loc and 'complement' not in loc):\n",
    "                        start = loc.split('join(')[0].split('..')[0].replace(\"<\", \"\")\n",
    "                        start = start.replace(\">\", \"\")\n",
    "                        end = loc.split('join(')[0].split('..')[2].split(')')[0].replace(\"<\", \"\")\n",
    "                        end = end.replace(\">\", \"\")\n",
    "                    else:\n",
    "                        start = loc.split('..')[0]#.replace(\"<\", \"\")\n",
    "                        #start = start.replace(\">\", \"\")\n",
    "                        end = loc.split('..')[1]#.replace(\"<\", \"\")\n",
    "                        #end = end.replace(\">\", \"\")\n",
    "                    x = int(start)\n",
    "                    y = int(end)\n",
    "                    start_stop_dict.setdefault(gene, [])\n",
    "                    start_stop_dict[gene].append(x)\n",
    "                    start_stop_dict[gene].append(y)\n",
    "                except Exception:\n",
    "                    #print('StartEnd Error')\n",
    "                    continue"
   ]
  },
  {
   "cell_type": "code",
   "execution_count": 84,
   "id": "0ebb8f49",
   "metadata": {},
   "outputs": [],
   "source": [
    "def reverser(file, reverser_dict):\n",
    "    old_end = 0\n",
    "    old_start = 0\n",
    "    old_gene = ''\n",
    "    count = 0\n",
    "    with open(file, 'r') as bsubt:\n",
    "        for line in bsubt:\n",
    "            if '>' in line:\n",
    "                try:\n",
    "                    loc = line.split('location=')[1].split(']')[0]\n",
    "                    if('complement') in loc:\n",
    "                        if ('join(') in loc:\n",
    "                            try:\n",
    "                                start = int(loc.split('join(')[1].split('..')[0])\n",
    "                                #start = int(start.replace(\">\", \"\"))\n",
    "                                end = int(loc.split('join(')[1].split('..')[2].split(')')[0])#.replace(\"<\", \"\")\n",
    "                                #end = int(end.replace(\">\", \"\"))\n",
    "                            except Exception:\n",
    "                                continue\n",
    "                        else:\n",
    "                            raw_start = loc.split('..')[0]\n",
    "                            raw_end = loc.split('..')[1]\n",
    "                            start = int(raw_start.split('(')[1])#.replace(\"<\", \"\")\n",
    "                            #start = int(start.replace(\">\", \"\"))\n",
    "                            end = int(raw_end.split(')')[0])#.replace(\"<\", \"\")\n",
    "                            #end = int(end.replace(\">\", \"\"))\n",
    "                        if (old_end < start):\n",
    "                            reverser_dict[start] = end\n",
    "                            old_start = start\n",
    "                        else:\n",
    "                            reverser_dict[old_start] = end\n",
    "                        old_end = end\n",
    "                except Exception:\n",
    "                    count += 1\n",
    "                    if (file == 'GCA_000008865.2_ASM886v2_cds_from_genomic.fna'):\n",
    "                        print(count)\n",
    "                    #print('Reverse error')\n",
    "                    continue"
   ]
  },
  {
   "cell_type": "code",
   "execution_count": 20,
   "id": "2f3829b8",
   "metadata": {},
   "outputs": [],
   "source": [
    "def genome_to_string(l, file):\n",
    "    with open(file, 'r') as sequence:\n",
    "        for line in sequence:\n",
    "            if '>' not in line and 'Gene' not in line:\n",
    "                l += line.split('\\n')[0]\n",
    "    return l"
   ]
  },
  {
   "cell_type": "code",
   "execution_count": 21,
   "id": "0ed1db3a",
   "metadata": {},
   "outputs": [],
   "source": [
    "def complement(sequence):\n",
    "    comp_dict = {\"A\":\"T\",\n",
    "                 \"T\":\"A\",\n",
    "                 \"G\":\"C\",\n",
    "                 \"C\":\"G\",\n",
    "                 \"a\":\"t\",\n",
    "                 \"t\":\"a\",\n",
    "                 \"g\":\"c\",\n",
    "                 \"c\":\"g\",\n",
    "                 \"N\":\"N\",\n",
    "                 \"n\":\"n\",\n",
    "                 \"W\":\"W\",\n",
    "                 \"w\":\"w\",\n",
    "                 \"S\":\"S\",\n",
    "                 \"s\":\"s\",\n",
    "                 \"R\":\"Y\",\n",
    "                 \"r\":\"y\",\n",
    "                 \"Y\":\"R\",\n",
    "                 \"y\":\"r\",\n",
    "                 \"K\":\"M\",\n",
    "                 \"M\":\"K\",\n",
    "                 \"m\":\"k\",\n",
    "                 \"k\":\"m\",\n",
    "                 \"D\":\"D\",\n",
    "                 'H':'H',\n",
    "                 'B':'B',\n",
    "    }\n",
    "    string = ''\n",
    "    sequence_list = list(sequence)\n",
    "    sequence_list = [comp_dict[base] for base in sequence_list]\n",
    "    string = ''.join(sequence_list)\n",
    "    return string"
   ]
  },
  {
   "cell_type": "code",
   "execution_count": 22,
   "id": "85b11972",
   "metadata": {},
   "outputs": [],
   "source": [
    "def intersection(start_stop_dict, reverser_dict, g, inter_dict):\n",
    "    flag = 0\n",
    "    for gene in start_stop_dict:\n",
    "        info = start_stop_dict[gene]\n",
    "        new_gene = info[0]\n",
    "        start = int(info[1])\n",
    "        end = int(info[2])\n",
    "        inter_seq = g[start - 21 : start - 1].lower() + g[start - 1 : end] + g[end : end + 20].lower()\n",
    "        for key in reverser_dict:\n",
    "            if start > key and start < reverser_dict[key]:\n",
    "                flag = 1\n",
    "        if flag == 1:\n",
    "            inter_seq = inter_seq[::-1]\n",
    "        inter_dict[gene] = []\n",
    "        inter_dict[gene].append(new_gene)\n",
    "        inter_dict[gene].append(inter_seq)\n",
    "        flag = 0\n",
    "    return 0"
   ]
  },
  {
   "cell_type": "code",
   "execution_count": 23,
   "id": "9a690d0a",
   "metadata": {},
   "outputs": [],
   "source": [
    "def write_result(file, inter_dict):\n",
    "    count = 0\n",
    "    with open(file, 'w') as out_file:\n",
    "        for key in inter_dict:\n",
    "            if len(inter_dict[key][1]) <= 50:\n",
    "                out_file.write(key + '\\t')\n",
    "                out_file.write(inter_dict[key][0] + '\\t')\n",
    "                out_file.write(inter_dict[key][1])\n",
    "                out_file.write('\\n')\n",
    "                count += 1\n",
    "    #print(count)"
   ]
  },
  {
   "cell_type": "code",
   "execution_count": 85,
   "id": "4f0e6183",
   "metadata": {},
   "outputs": [
    {
     "name": "stdout",
     "output_type": "stream",
     "text": [
      "1\n",
      "2\n",
      " \n"
     ]
    }
   ],
   "source": [
    "stats_list = []\n",
    "for root, dirs, files in os.walk('/home/ars1suhod/ncbi/genomes'):\n",
    "    for directory in dirs:\n",
    "        os.chdir('/home/ars1suhod/ncbi/genomes/')\n",
    "        if (directory not in stats_list):\n",
    "            raw_start_stop_dict = {}\n",
    "            raw_reverser_dict = {}\n",
    "            inter_dict = {}\n",
    "            l = ''\n",
    "            count = 0\n",
    "            os.chdir('/home/ars1suhod/ncbi/genomes/' + directory)\n",
    "            for root_new, dirs_new, files_new in os.walk('/home/ars1suhod/ncbi/genomes/' + directory):\n",
    "                for filename in files_new:\n",
    "                    if ('cds' in filename):\n",
    "                        cds_file = filename\n",
    "                        count += 1\n",
    "                    elif ('genomic' in filename):\n",
    "                        genome_file = filename\n",
    "                        count += 1\n",
    "            if (count == 2):\n",
    "                stats_list.append('/home/ars1suhod/ncbi/genomes/' + directory)\n",
    "                start_end(cds_file, raw_start_stop_dict)\n",
    "                reverser(cds_file, raw_reverser_dict)\n",
    "                if directory == 'Escherichia coli':\n",
    "                    print(' ')\n",
    "                l = genome_to_string(l, genome_file)\n",
    "                g = ''\n",
    "                raw_start_stop_dict = dict(sorted(raw_start_stop_dict.items(), key = lambda item: item[1]))\n",
    "                start_stop_dict = {}\n",
    "                old_end = 0\n",
    "                old_gene = ''\n",
    "                for key in (raw_start_stop_dict.keys()):\n",
    "                    #print(key)\n",
    "                    start = raw_start_stop_dict[key][0]\n",
    "                    end = raw_start_stop_dict[key][1]\n",
    "                    gene = key\n",
    "                    if (int(old_end) > int(start)):\n",
    "                        start_stop_dict.setdefault(old_gene, [])\n",
    "                        start_stop_dict[old_gene].append(gene)\n",
    "                        start_stop_dict[old_gene].append(int(start))\n",
    "                        start_stop_dict[old_gene].append(int(old_end))\n",
    "                    old_end = end\n",
    "                    old_gene = gene\n",
    "                old_end = 0\n",
    "                old_start = 0\n",
    "                raw_reverser_dict = dict(sorted(raw_reverser_dict.items()))\n",
    "                reverser_dict = {}\n",
    "                for key in (raw_reverser_dict.keys()):\n",
    "                    start = key\n",
    "                    end = raw_reverser_dict[key]\n",
    "                    if (old_end < start):\n",
    "                        reverser_dict[start] = end\n",
    "                        old_start = start\n",
    "                    else:\n",
    "                        reverser_dict[old_start] = end\n",
    "                    old_end = end\n",
    "                old_end = 0\n",
    "                old_start = 0\n",
    "                for key in reverser_dict:\n",
    "                    g += l[old_start:key - 1]\n",
    "                    comp = complement(l[key - 1:reverser_dict[key]])\n",
    "                    g += comp\n",
    "                    old_start = reverser_dict[key]\n",
    "                g += l[old_start:len(l)]\n",
    "                intersection(start_stop_dict, reverser_dict, g, inter_dict)\n",
    "                result_name = directory + '_intersection.tsv'\n",
    "                write_result(result_name, inter_dict)"
   ]
  },
  {
   "cell_type": "code",
   "execution_count": 26,
   "id": "a4b6aa14",
   "metadata": {},
   "outputs": [
    {
     "name": "stdout",
     "output_type": "stream",
     "text": [
      "cgggaccacctgagctaataAGTAacccacaattgttagtaaaa\n"
     ]
    }
   ],
   "source": [
    "print(complement('gccctggtggactcgattatTCATtgggtgttaacaatcatttt'))"
   ]
  },
  {
   "cell_type": "code",
   "execution_count": null,
   "id": "8b5dfce1",
   "metadata": {},
   "outputs": [],
   "source": [
    "print(os.getcwd())"
   ]
  },
  {
   "cell_type": "code",
   "execution_count": 52,
   "id": "96c02b6a",
   "metadata": {},
   "outputs": [],
   "source": [
    "stats_list = []\n",
    "for root, dirs, files in os.walk('/home/ars1suhod/ncbi/genomes'):\n",
    "    for file in files:\n",
    "        if ('intersection.tsv' in file):\n",
    "            stats_list.append(file.split('_intersection')[0])"
   ]
  },
  {
   "cell_type": "code",
   "execution_count": 53,
   "id": "423bd44b",
   "metadata": {},
   "outputs": [],
   "source": [
    "import csv"
   ]
  },
  {
   "cell_type": "code",
   "execution_count": 54,
   "id": "036a1977",
   "metadata": {},
   "outputs": [
    {
     "name": "stdout",
     "output_type": "stream",
     "text": [
      "['ATG', 'GTG', 'TTG']\n",
      "['TAG', 'TAA', 'TGA']\n"
     ]
    }
   ],
   "source": [
    "good_start = ['ATG', 'GTG', 'TTG']\n",
    "good_end = ['TAG', 'TAA', 'TGA']\n",
    "print(good_start)\n",
    "print(good_end)\n",
    "list_start = [0, 0, 0, 0, 0, 0, 0, 0, 0]\n",
    "list_stop = [0, 0, 0]"
   ]
  },
  {
   "cell_type": "code",
   "execution_count": 55,
   "id": "38b46432",
   "metadata": {
    "scrolled": false
   },
   "outputs": [
    {
     "name": "stdout",
     "output_type": "stream",
     "text": [
      "[5483, 17836, 203711, 880, 1826, 55720, 427, 1272, 9668]\n"
     ]
    }
   ],
   "source": [
    "with open('/home/ars1suhod/ncbi/stats.tsv', 'wt') as out_file:\n",
    "    os.chdir('/home/ars1suhod/ncbi/genomes')\n",
    "    tsv_writer = csv.writer(out_file, delimiter='\\t')\n",
    "    for root, dirs, files in os.walk('/home/ars1suhod/ncbi/genomes'):\n",
    "        for directory in dirs:\n",
    "            try:\n",
    "                file = directory + '/' + directory + '_intersection.tsv'\n",
    "                bsubt = pd.read_csv(file, delimiter='\\t', header = None)\n",
    "                sequence_dict = {}\n",
    "                full_dict = {}\n",
    "                full_sequence_dict = {}\n",
    "                if (len(bsubt) < 20):\n",
    "                    continue\n",
    "                for i in range(len(bsubt)):\n",
    "                    gene = bsubt[0][i]\n",
    "                    sequence = bsubt[2][i]\n",
    "                    num = len(sequence)\n",
    "                    start = sequence[20:23]\n",
    "                    end = sequence[num - 23: num - 20]\n",
    "                    if (start == 'ATG' and end == 'TAG'):\n",
    "                        list_start[0] += 1\n",
    "                    if (start == 'ATG' and end == 'TAA'):\n",
    "                        list_start[1] += 1\n",
    "                    if (start == 'ATG' and end == 'TGA'):\n",
    "                        list_start[2] += 1\n",
    "                    if (start == 'GTG' and end == 'TAG'):\n",
    "                        list_start[3] += 1\n",
    "                    if (start == 'GTG' and end == 'TAA'):\n",
    "                        list_start[4] += 1\n",
    "                    if (start == 'GTG' and end == 'TGA'):\n",
    "                        list_start[5] += 1\n",
    "                    if (start == 'TTG' and end == 'TAG'):\n",
    "                        list_start[6] += 1\n",
    "                    if (start == 'TTG' and end == 'TAA'):\n",
    "                        list_start[7] += 1\n",
    "                    if (start == 'TTG' and end == 'TGA'):\n",
    "                        list_start[8] += 1\n",
    "            except Exception:\n",
    "                continue\n",
    "print(list_start)\n",
    "#print(list_stop)"
   ]
  },
  {
   "cell_type": "code",
   "execution_count": 38,
   "id": "b312fce4",
   "metadata": {},
   "outputs": [
    {
     "name": "stdout",
     "output_type": "stream",
     "text": [
      "[32112, 18066, 26306, 31023]\n"
     ]
    }
   ],
   "source": [
    "import os\n",
    "import csv\n",
    "import pandas as pd\n",
    "nucleotide_list = [0, 0, 0, 0]\n",
    "with open('/home/ars1suhod/ncbi/stats.tsv', 'wt') as out_file:\n",
    "    os.chdir('/home/ars1suhod/ncbi/genomes')\n",
    "    tsv_writer = csv.writer(out_file, delimiter='\\t')\n",
    "    for root, dirs, files in os.walk('/home/ars1suhod/ncbi/genomes'):\n",
    "        for directory in dirs:\n",
    "            try:\n",
    "                file = directory + '/' + directory + '_intersection.tsv'\n",
    "                #print(file)\n",
    "                bsubt = pd.read_csv(file, delimiter='\\t', header = None)\n",
    "                sequence_dict = {}\n",
    "                full_dict = {}\n",
    "                full_sequence_dict = {}\n",
    "                if (len(bsubt) < 20):\n",
    "                    continue\n",
    "                for i in range(len(bsubt)):\n",
    "                    gene = bsubt[0][i]\n",
    "                    sequence = bsubt[2][i]\n",
    "                    num = len(sequence)\n",
    "                    start = sequence[20:23]\n",
    "                    end = sequence[num - 23: num - 20]\n",
    "                    if(start in good_start and end in good_end):\n",
    "                        if(len(sequence) > 46):\n",
    "                            #print(gene)\n",
    "                            #print(sequence)\n",
    "                            #print(sequence[23: num - 23])\n",
    "                            for s in sequence[23: num - 23]:\n",
    "                                if (s == 'A'):\n",
    "                                    nucleotide_list[0] += 1\n",
    "                                if (s == 'T'):\n",
    "                                    nucleotide_list[1] += 1 \n",
    "                                if (s == 'G'):\n",
    "                                    nucleotide_list[2] += 1 \n",
    "                                if (s == 'C'):\n",
    "                                    nucleotide_list[3] += 1 \n",
    "            except Exception:\n",
    "                continue\n",
    "print(nucleotide_list)"
   ]
  },
  {
   "cell_type": "code",
   "execution_count": 39,
   "id": "49048ccb",
   "metadata": {},
   "outputs": [
    {
     "name": "stdout",
     "output_type": "stream",
     "text": [
      "107507\n",
      "[0.29869682904369016, 0.16804487149673974, 0.24469104337391984, 0.28856725608565026]\n"
     ]
    }
   ],
   "source": [
    "summa = sum(nucleotide_list)\n",
    "print(summa)\n",
    "for i in range(4):\n",
    "    nucleotide_list[i] /= summa\n",
    "print(nucleotide_list)"
   ]
  },
  {
   "cell_type": "code",
   "execution_count": 41,
   "id": "b4fc07ff",
   "metadata": {},
   "outputs": [],
   "source": [
    "import seaborn as sns"
   ]
  },
  {
   "cell_type": "code",
   "execution_count": 42,
   "id": "56038420",
   "metadata": {},
   "outputs": [
    {
     "name": "stderr",
     "output_type": "stream",
     "text": [
      "/home/ars1suhod/anaconda3/lib/python3.9/site-packages/seaborn/_decorators.py:36: FutureWarning: Pass the following variables as keyword args: x, y. From version 0.12, the only valid positional argument will be `data`, and passing other arguments without an explicit keyword will result in an error or misinterpretation.\n",
      "  warnings.warn(\n"
     ]
    },
    {
     "data": {
      "text/plain": [
       "[Text(0.5, 0, 'Нуклеотиды'), Text(0, 0.5, 'Процентное соотношение')]"
      ]
     },
     "execution_count": 42,
     "metadata": {},
     "output_type": "execute_result"
    },
    {
     "data": {
      "image/png": "[encoded data removed]",
      "text/plain": [
       "<Figure size 640x480 with 1 Axes>"
      ]
     },
     "metadata": {},
     "output_type": "display_data"
    }
   ],
   "source": [
    "nucleotides = ['A', 'T', 'G', 'C']\n",
    "sns_plot = sns.barplot(nucleotides, nucleotide_list)\n",
    "sns_plot.set(xlabel='Нуклеотиды', ylabel='Процентное соотношение')"
   ]
  },
  {
   "cell_type": "code",
   "execution_count": 43,
   "id": "11a815df",
   "metadata": {},
   "outputs": [],
   "source": [
    "good_start = ['ATG + TAG', 'ATG + TAA', 'ATG + TGA', 'GTG + TAG', 'GTG + TAA', 'GTG + TGA', 'TTG + TAG', 'TTG + TAA', 'TTG + TGA']"
   ]
  },
  {
   "cell_type": "code",
   "execution_count": 44,
   "id": "d93368f4",
   "metadata": {},
   "outputs": [],
   "source": [
    "import numpy as np\n",
    "import matplotlib.pyplot as plt"
   ]
  },
  {
   "cell_type": "code",
   "execution_count": 45,
   "id": "43d88bf1",
   "metadata": {},
   "outputs": [
    {
     "name": "stderr",
     "output_type": "stream",
     "text": [
      "/tmp/ipykernel_4819/3688848923.py:1: VisibleDeprecationWarning: Creating an ndarray from ragged nested sequences (which is a list-or-tuple of lists-or-tuples-or ndarrays with different lengths or shapes) is deprecated. If you meant to do this, you must specify 'dtype=object' when creating the ndarray.\n",
      "  matrix = np.array([good_start, good_end])\n"
     ]
    }
   ],
   "source": [
    "matrix = np.array([good_start, good_end])"
   ]
  },
  {
   "cell_type": "code",
   "execution_count": 46,
   "id": "610acc93",
   "metadata": {},
   "outputs": [
    {
     "name": "stdout",
     "output_type": "stream",
     "text": [
      "[list(['ATG + TAG', 'ATG + TAA', 'ATG + TGA', 'GTG + TAG', 'GTG + TAA', 'GTG + TGA', 'TTG + TAG', 'TTG + TAA', 'TTG + TGA'])\n",
      " list(['TAG', 'TAA', 'TGA'])]\n"
     ]
    }
   ],
   "source": [
    "print(matrix)"
   ]
  },
  {
   "cell_type": "code",
   "execution_count": 47,
   "id": "3392252d",
   "metadata": {},
   "outputs": [
    {
     "ename": "ValueError",
     "evalue": "The truth value of an array with more than one element is ambiguous. Use a.any() or a.all()",
     "output_type": "error",
     "traceback": [
      "\u001b[0;31m---------------------------------------------------------------------------\u001b[0m",
      "\u001b[0;31mValueError\u001b[0m                                Traceback (most recent call last)",
      "\u001b[0;32m/tmp/ipykernel_4819/4243824955.py\u001b[0m in \u001b[0;36m<module>\u001b[0;34m\u001b[0m\n\u001b[0;32m----> 1\u001b[0;31m \u001b[0mplt\u001b[0m\u001b[0;34m.\u001b[0m\u001b[0mshow\u001b[0m\u001b[0;34m(\u001b[0m\u001b[0mmatrix\u001b[0m\u001b[0;34m)\u001b[0m\u001b[0;34m\u001b[0m\u001b[0;34m\u001b[0m\u001b[0m\n\u001b[0m",
      "\u001b[0;32m~/anaconda3/lib/python3.9/site-packages/matplotlib/pyplot.py\u001b[0m in \u001b[0;36mshow\u001b[0;34m(*args, **kwargs)\u001b[0m\n\u001b[1;32m    387\u001b[0m     \"\"\"\n\u001b[1;32m    388\u001b[0m     \u001b[0m_warn_if_gui_out_of_main_thread\u001b[0m\u001b[0;34m(\u001b[0m\u001b[0;34m)\u001b[0m\u001b[0;34m\u001b[0m\u001b[0;34m\u001b[0m\u001b[0m\n\u001b[0;32m--> 389\u001b[0;31m     \u001b[0;32mreturn\u001b[0m \u001b[0m_get_backend_mod\u001b[0m\u001b[0;34m(\u001b[0m\u001b[0;34m)\u001b[0m\u001b[0;34m.\u001b[0m\u001b[0mshow\u001b[0m\u001b[0;34m(\u001b[0m\u001b[0;34m*\u001b[0m\u001b[0margs\u001b[0m\u001b[0;34m,\u001b[0m \u001b[0;34m**\u001b[0m\u001b[0mkwargs\u001b[0m\u001b[0;34m)\u001b[0m\u001b[0;34m\u001b[0m\u001b[0;34m\u001b[0m\u001b[0m\n\u001b[0m\u001b[1;32m    390\u001b[0m \u001b[0;34m\u001b[0m\u001b[0m\n\u001b[1;32m    391\u001b[0m \u001b[0;34m\u001b[0m\u001b[0m\n",
      "\u001b[0;32m~/anaconda3/lib/python3.9/site-packages/matplotlib_inline/backend_inline.py\u001b[0m in \u001b[0;36mshow\u001b[0;34m(close, block)\u001b[0m\n\u001b[1;32m     96\u001b[0m         \u001b[0;31m# only call close('all') if any to close\u001b[0m\u001b[0;34m\u001b[0m\u001b[0;34m\u001b[0m\u001b[0m\n\u001b[1;32m     97\u001b[0m         \u001b[0;31m# close triggers gc.collect, which can be slow\u001b[0m\u001b[0;34m\u001b[0m\u001b[0;34m\u001b[0m\u001b[0m\n\u001b[0;32m---> 98\u001b[0;31m         \u001b[0;32mif\u001b[0m \u001b[0mclose\u001b[0m \u001b[0;32mand\u001b[0m \u001b[0mGcf\u001b[0m\u001b[0;34m.\u001b[0m\u001b[0mget_all_fig_managers\u001b[0m\u001b[0;34m(\u001b[0m\u001b[0;34m)\u001b[0m\u001b[0;34m:\u001b[0m\u001b[0;34m\u001b[0m\u001b[0;34m\u001b[0m\u001b[0m\n\u001b[0m\u001b[1;32m     99\u001b[0m             \u001b[0mmatplotlib\u001b[0m\u001b[0;34m.\u001b[0m\u001b[0mpyplot\u001b[0m\u001b[0;34m.\u001b[0m\u001b[0mclose\u001b[0m\u001b[0;34m(\u001b[0m\u001b[0;34m'all'\u001b[0m\u001b[0;34m)\u001b[0m\u001b[0;34m\u001b[0m\u001b[0;34m\u001b[0m\u001b[0m\n\u001b[1;32m    100\u001b[0m \u001b[0;34m\u001b[0m\u001b[0m\n",
      "\u001b[0;31mValueError\u001b[0m: The truth value of an array with more than one element is ambiguous. Use a.any() or a.all()"
     ]
    }
   ],
   "source": [
    "plt.show(matrix)"
   ]
  },
  {
   "cell_type": "code",
   "execution_count": 48,
   "id": "a70c70c7",
   "metadata": {},
   "outputs": [],
   "source": [
    "import seaborn as sns"
   ]
  },
  {
   "cell_type": "code",
   "execution_count": 49,
   "id": "94a30b63",
   "metadata": {},
   "outputs": [
    {
     "name": "stderr",
     "output_type": "stream",
     "text": [
      "/home/ars1suhod/anaconda3/lib/python3.9/site-packages/seaborn/_decorators.py:36: FutureWarning: Pass the following variables as keyword args: x, y. From version 0.12, the only valid positional argument will be `data`, and passing other arguments without an explicit keyword will result in an error or misinterpretation.\n",
      "  warnings.warn(\n"
     ]
    },
    {
     "data": {
      "image/png": "[encoded data removed]",
      "text/plain": [
       "<Figure size 640x480 with 1 Axes>"
      ]
     },
     "metadata": {},
     "output_type": "display_data"
    }
   ],
   "source": [
    "sns_plot = sns.barplot(good_start, list_start)\n",
    "sns_plot.set_xticklabels(sns_plot.get_xticklabels(),rotation = 30)\n",
    "sns_plot.set(xlabel='Старт- и стоп-кодоны', ylabel='lg(N)')\n",
    "plt.yscale('log')"
   ]
  },
  {
   "cell_type": "markdown",
   "id": "e8c88442",
   "metadata": {},
   "source": [
    "строим гистограмму по пересечениям"
   ]
  },
  {
   "cell_type": "code",
   "execution_count": null,
   "id": "304c44fd",
   "metadata": {},
   "outputs": [],
   "source": [
    "len_dict = {}\n",
    "сount_good_intersections = 0\n",
    "count_bad_intersections = 0\n",
    "with open('/home/ars1suhod/ncbi/stats.tsv', 'wt') as out_file:\n",
    "    os.chdir('/home/ars1suhod/ncbi/genomes')\n",
    "    tsv_writer = csv.writer(out_file, delimiter='\\t')\n",
    "    for root, dirs, files in os.walk('/home/ars1suhod/ncbi/genomes'):\n",
    "        for directory in dirs:\n",
    "            try:\n",
    "                #print(directory)\n",
    "                file = directory + '/' + directory + '_intersection.tsv'\n",
    "                bsubt = pd.read_csv(file, delimiter='\\t', header = None)\n",
    "                sequence_dict = {}\n",
    "                full_dict = {}\n",
    "                full_sequence_dict = {}\n",
    "                for i in range(len(bsubt)):\n",
    "                    count_bad_intersections += 1\n",
    "                    gene = bsubt[0][i]\n",
    "                    sequence = bsubt[2][i]\n",
    "                    num = len(sequence)\n",
    "                    start = sequence[20:23]\n",
    "                    end = sequence[num - 23: num - 20]\n",
    "                    if (start in good_start and end in good_end):\n",
    "                        сount_good_intersections += 1\n",
    "                        intersection = sequence[20:num - 20]\n",
    "                        sequence_dict.setdefault(intersection, [])\n",
    "                        sequence_dict[intersection].append(gene)\n",
    "                        full_dict[gene] = bsubt[1][i]\n",
    "                        full_sequence_dict[gene] = sequence\n",
    "                for key in sequence_dict.keys():\n",
    "                    len_dict.setdefault(key, 0)\n",
    "                    len_dict[key] += len(sequence_dict[key])\n",
    "            except Exception:\n",
    "                continue\n",
    "print(сount_good_intersections)\n",
    "print(count_bad_intersections)"
   ]
  },
  {
   "cell_type": "code",
   "execution_count": null,
   "id": "efe585fd",
   "metadata": {},
   "outputs": [],
   "source": [
    "print(len_dict)"
   ]
  },
  {
   "cell_type": "code",
   "execution_count": null,
   "id": "cf122bf7",
   "metadata": {},
   "outputs": [],
   "source": [
    "import seaborn as sns"
   ]
  },
  {
   "cell_type": "code",
   "execution_count": null,
   "id": "eb3f5ad5",
   "metadata": {
    "scrolled": false
   },
   "outputs": [],
   "source": [
    "print(list(len_dict))"
   ]
  },
  {
   "cell_type": "code",
   "execution_count": null,
   "id": "5595bd63",
   "metadata": {},
   "outputs": [],
   "source": [
    "x = list(len_dict.keys())[0:10]\n",
    "y = list(len_dict.values())[0:10]\n",
    "print(x)\n",
    "print(y)\n",
    "sns_plot = sns.barplot(x, y)\n",
    "plt.xticks(rotation=30)\n",
    "plt.yscale('log')\n",
    "sns_plot.set(xlabel='Пересечение', ylabel='lg(N)')\n",
    "fig = sns_plot.get_figure()"
   ]
  },
  {
   "cell_type": "markdown",
   "id": "d1aed81d",
   "metadata": {},
   "source": [
    "Запись статистики"
   ]
  },
  {
   "cell_type": "code",
   "execution_count": null,
   "id": "6834f3b2",
   "metadata": {},
   "outputs": [],
   "source": [
    "with open('/home/ars1suhod/ncbi/stats.tsv', 'wt') as out_file:\n",
    "    os.chdir('/home/ars1suhod/ncbi/genomes')\n",
    "    tsv_writer = csv.writer(out_file, delimiter='\\t')\n",
    "    for root, dirs, files in os.walk('/home/ars1suhod/ncbi/genomes'):\n",
    "        for directory in dirs:\n",
    "            try:\n",
    "                print(directory)\n",
    "                file = directory + '/' + directory + '_intersection.tsv'\n",
    "                bsubt = pd.read_csv(file, delimiter='\\t', header = None)\n",
    "                sequence_dict = {}\n",
    "                full_dict = {}\n",
    "                full_sequence_dict = {}\n",
    "                for i in range(len(bsubt)):\n",
    "                    gene = bsubt[0][i]\n",
    "                    sequence = bsubt[2][i]\n",
    "                    num = len(sequence)\n",
    "                    start = sequence[20:23]\n",
    "                    end = sequence[num - 23: num - 20]\n",
    "                    if (start in good_start and end in good_end):\n",
    "                        intersection = sequence[20:num - 20]\n",
    "                        sequence_dict.setdefault(intersection, [])\n",
    "                        sequence_dict[intersection].append(gene)\n",
    "                        full_dict[gene] = bsubt[1][i]\n",
    "                        full_sequence_dict[gene] = sequence\n",
    "                len_dict = {}\n",
    "                out_file.write('\\n')\n",
    "                out_file.write(directory)\n",
    "                out_file.write('\\n')\n",
    "                for key in sequence_dict.keys():\n",
    "                    len_dict[key] = len(sequence_dict[key])\n",
    "                    out_file.write(str(key) + '\\t')\n",
    "                out_file.write('\\n')\n",
    "                for key in sequence_dict.keys():\n",
    "                    out_file.write(str(len_dict[key]) + '\\t')\n",
    "                out_file.write('\\n')\n",
    "            except Exception:\n",
    "                continue"
   ]
  },
  {
   "cell_type": "code",
   "execution_count": null,
   "id": "f8301869",
   "metadata": {},
   "outputs": [],
   "source": [
    "count_genes = 0\n",
    "for root, dirs, files in os.walk('/home/ars1suhod/ncbi/genomes'):\n",
    "    for directory in dirs:\n",
    "        os.chdir('/home/ars1suhod/ncbi/genomes/' + directory)\n",
    "        for root_new, dirs_new, files_new in os.walk('/home/ars1suhod/ncbi/genomes/' + directory):\n",
    "            for filename in files_new:\n",
    "                if('cds' in filename):\n",
    "                    with open (filename, 'r') as cds_file:\n",
    "                        for line in cds_file:\n",
    "                            if 'lcl' in line:\n",
    "                                count_genes += 1\n",
    "        os.chdir('/home/ars1suhod/ncbi/genomes/')"
   ]
  },
  {
   "cell_type": "code",
   "execution_count": null,
   "id": "8f4a6fd8",
   "metadata": {},
   "outputs": [],
   "source": [
    "print(count_genes)"
   ]
  },
  {
   "cell_type": "code",
   "execution_count": null,
   "id": "bb3f0eb5",
   "metadata": {},
   "outputs": [],
   "source": [
    "print(сount_good_intersections/count_genes * 100)\n",
    "print(count_bad_intersections/count_genes * 100)"
   ]
  }
 ],
 "metadata": {
  "kernelspec": {
   "display_name": "Python 3 (ipykernel)",
   "language": "python",
   "name": "python3"
  },
  "language_info": {
   "codemirror_mode": {
    "name": "ipython",
    "version": 3
   },
   "file_extension": ".py",
   "mimetype": "text/x-python",
   "name": "python",
   "nbconvert_exporter": "python",
   "pygments_lexer": "ipython3",
   "version": "3.9.13"
  }
 },
 "nbformat": 4,
 "nbformat_minor": 5
}
